{
 "cells": [
  {
   "cell_type": "code",
   "execution_count": 1,
   "metadata": {},
   "outputs": [],
   "source": [
    "import numpy as np\n",
    "import pandas as pd\n",
    "import requests\n",
    "from bs4 import BeautifulSoup\n",
    "pd.options.display.max_colwidth=500"
   ]
  },
  {
   "cell_type": "code",
   "execution_count": 2,
   "metadata": {},
   "outputs": [],
   "source": [
    "class News:\n",
    "    def __init__(self, term):\n",
    "        self.term = term\n",
    "        self.url = 'https://www.google.com/search?q={0}&source=lnms&tbm=nws'.format(self.term)\n",
    "        self.title = []\n",
    "        self.date = []\n",
    "        self.link = []\n",
    "        self.df = pd.DataFrame()\n",
    "    \n",
    "    def run(self):\n",
    "        response = requests.get(self.url)\n",
    "        soup = BeautifulSoup(response.content, 'html.parser')\n",
    "        \n",
    "        for n in range(10):\n",
    "            self.title.append(soup.find_all('div', {'class': 'g'})[n].a.get_text())\n",
    "            self.link.append(soup.find_all('div', {'class': 'g'})[n].a['href'].split('/url?q=')[1].split('&sa=U')[0])\n",
    "            self.date.append(soup.find_all('div', {'class': 'g'})[n].span.get_text().split(' - ')[1])\n",
    "        self.df = pd.concat([pd.Series(self.date), pd.Series(self.title), pd.Series(self.link)], axis=1).rename({0:'Date/Time', 1:'Keywords', 2:'URL'}, axis=1)\n",
    "        \n",
    "        return self.df"
   ]
  },
  {
   "cell_type": "code",
   "execution_count": 3,
   "metadata": {},
   "outputs": [],
   "source": [
    "a = News('Haryana Cabinet Approves Delhi-Gurugram-SNB RRTS Corridor')\n",
    "df = a.run()"
   ]
  },
  {
   "cell_type": "code",
   "execution_count": 4,
   "metadata": {},
   "outputs": [
    {
     "data": {
      "text/html": [
       "<div>\n",
       "<style scoped>\n",
       "    .dataframe tbody tr th:only-of-type {\n",
       "        vertical-align: middle;\n",
       "    }\n",
       "\n",
       "    .dataframe tbody tr th {\n",
       "        vertical-align: top;\n",
       "    }\n",
       "\n",
       "    .dataframe thead th {\n",
       "        text-align: right;\n",
       "    }\n",
       "</style>\n",
       "<table border=\"1\" class=\"dataframe\">\n",
       "  <thead>\n",
       "    <tr style=\"text-align: right;\">\n",
       "      <th></th>\n",
       "      <th>Date/Time</th>\n",
       "      <th>Keywords</th>\n",
       "      <th>URL</th>\n",
       "    </tr>\n",
       "  </thead>\n",
       "  <tbody>\n",
       "    <tr>\n",
       "      <th>0</th>\n",
       "      <td>14 Feb 2019</td>\n",
       "      <td>Haryana Cabinet approves Delhi-Gurugram-SNB RRTS corridor</td>\n",
       "      <td>https://www.tribuneindia.com/news/haryana/haryana-cabinet-approves-delhi-gurugram-snb-rrts-corridor/728952.html</td>\n",
       "    </tr>\n",
       "    <tr>\n",
       "      <th>1</th>\n",
       "      <td>13 Feb 2019</td>\n",
       "      <td>Haryana cabinet approves Delhi-Gurugram-SNB Corridor of RRTS</td>\n",
       "      <td>http://www.uniindia.com/haryana-cabinet-approves-delhi-gurugram-snb-corridor-of-rrts/north/news/1498570.html</td>\n",
       "    </tr>\n",
       "    <tr>\n",
       "      <th>2</th>\n",
       "      <td>14 Feb 2019</td>\n",
       "      <td>Delhi-Gurugram-SNB RRT corridor gets nod from Haryana Cabinet</td>\n",
       "      <td>http://www.newindianexpress.com/nation/2019/feb/15/delhi-gurugram-snb-rrt-corridor-gets-nod-from-haryana-cabinet-1939124.html</td>\n",
       "    </tr>\n",
       "    <tr>\n",
       "      <th>3</th>\n",
       "      <td>15 Feb 2019</td>\n",
       "      <td>Haryana Cabinet approves Delhi-Alwar Rapid Rail Transit Phase 1 ...</td>\n",
       "      <td>https://www.financialexpress.com/infrastructure/haryana-cabinet-approves-delhi-alwar-rapid-rail-transit-phase-1-corridor-travel-from-delhi-snb-in-70-minutes/1488927/</td>\n",
       "    </tr>\n",
       "    <tr>\n",
       "      <th>4</th>\n",
       "      <td>14 Feb 2019</td>\n",
       "      <td>Haryana cabinet OKs Delhi-Ggn-SNB RRTS Corridor</td>\n",
       "      <td>http://www.millenniumpost.in/delhi/haryana-cabinet-oks-delhi-ggn-snb-rrts-corridor-340750</td>\n",
       "    </tr>\n",
       "    <tr>\n",
       "      <th>5</th>\n",
       "      <td>13 Feb 2019</td>\n",
       "      <td>Haryana cabinet okays Economically Weaker Sections quota in ...</td>\n",
       "      <td>http://www.newindianexpress.com/nation/2019/feb/14/haryana-cabinet-okays-economically-weaker-sections-quota-in-govrnment-jobs-education-1938466.html</td>\n",
       "    </tr>\n",
       "    <tr>\n",
       "      <th>6</th>\n",
       "      <td>13 Feb 2019</td>\n",
       "      <td>Slew of decisions by Hry Cabinet ahead of LS polls</td>\n",
       "      <td>https://www.dailypioneer.com/2019/state-editions/slew-of-decisions-by-hry-cabinet-ahead-of-ls-polls.html</td>\n",
       "    </tr>\n",
       "    <tr>\n",
       "      <th>7</th>\n",
       "      <td>11 Dec 2018</td>\n",
       "      <td>NCRTC to start work of Delhi-Gurugram-SNB RRTS corridor from ...</td>\n",
       "      <td>https://urbantransportnews.com/ncrtc-to-start-work-of-delhi-gurugram-snb-rrts-corridor-from-march-2019/</td>\n",
       "    </tr>\n",
       "    <tr>\n",
       "      <th>8</th>\n",
       "      <td>24 Dec 2018</td>\n",
       "      <td>Tender floated for construction of Rapid Rail</td>\n",
       "      <td>https://www.dailypioneer.com/2018/state-editions/tender-floated-for-construction-of-rapid-rail.html</td>\n",
       "    </tr>\n",
       "    <tr>\n",
       "      <th>9</th>\n",
       "      <td>7 Dec 2018</td>\n",
       "      <td>Delhi-Gurugram-SNB RRTS Corridor has been approved by ...</td>\n",
       "      <td>https://www.metrorailnews.in/delhi-gurugram-snb-rrts-corridor-approved-ncrtc-board/</td>\n",
       "    </tr>\n",
       "  </tbody>\n",
       "</table>\n",
       "</div>"
      ],
      "text/plain": [
       "     Date/Time  \\\n",
       "0  14 Feb 2019   \n",
       "1  13 Feb 2019   \n",
       "2  14 Feb 2019   \n",
       "3  15 Feb 2019   \n",
       "4  14 Feb 2019   \n",
       "5  13 Feb 2019   \n",
       "6  13 Feb 2019   \n",
       "7  11 Dec 2018   \n",
       "8  24 Dec 2018   \n",
       "9   7 Dec 2018   \n",
       "\n",
       "                                                              Keywords  \\\n",
       "0            Haryana Cabinet approves Delhi-Gurugram-SNB RRTS corridor   \n",
       "1         Haryana cabinet approves Delhi-Gurugram-SNB Corridor of RRTS   \n",
       "2        Delhi-Gurugram-SNB RRT corridor gets nod from Haryana Cabinet   \n",
       "3  Haryana Cabinet approves Delhi-Alwar Rapid Rail Transit Phase 1 ...   \n",
       "4                      Haryana cabinet OKs Delhi-Ggn-SNB RRTS Corridor   \n",
       "5      Haryana cabinet okays Economically Weaker Sections quota in ...   \n",
       "6                   Slew of decisions by Hry Cabinet ahead of LS polls   \n",
       "7     NCRTC to start work of Delhi-Gurugram-SNB RRTS corridor from ...   \n",
       "8                        Tender floated for construction of Rapid Rail   \n",
       "9            Delhi-Gurugram-SNB RRTS Corridor has been approved by ...   \n",
       "\n",
       "                                                                                                                                                                     URL  \n",
       "0                                                        https://www.tribuneindia.com/news/haryana/haryana-cabinet-approves-delhi-gurugram-snb-rrts-corridor/728952.html  \n",
       "1                                                           http://www.uniindia.com/haryana-cabinet-approves-delhi-gurugram-snb-corridor-of-rrts/north/news/1498570.html  \n",
       "2                                          http://www.newindianexpress.com/nation/2019/feb/15/delhi-gurugram-snb-rrt-corridor-gets-nod-from-haryana-cabinet-1939124.html  \n",
       "3  https://www.financialexpress.com/infrastructure/haryana-cabinet-approves-delhi-alwar-rapid-rail-transit-phase-1-corridor-travel-from-delhi-snb-in-70-minutes/1488927/  \n",
       "4                                                                              http://www.millenniumpost.in/delhi/haryana-cabinet-oks-delhi-ggn-snb-rrts-corridor-340750  \n",
       "5                   http://www.newindianexpress.com/nation/2019/feb/14/haryana-cabinet-okays-economically-weaker-sections-quota-in-govrnment-jobs-education-1938466.html  \n",
       "6                                                               https://www.dailypioneer.com/2019/state-editions/slew-of-decisions-by-hry-cabinet-ahead-of-ls-polls.html  \n",
       "7                                                                https://urbantransportnews.com/ncrtc-to-start-work-of-delhi-gurugram-snb-rrts-corridor-from-march-2019/  \n",
       "8                                                                    https://www.dailypioneer.com/2018/state-editions/tender-floated-for-construction-of-rapid-rail.html  \n",
       "9                                                                                    https://www.metrorailnews.in/delhi-gurugram-snb-rrts-corridor-approved-ncrtc-board/  "
      ]
     },
     "execution_count": 4,
     "metadata": {},
     "output_type": "execute_result"
    }
   ],
   "source": [
    "df"
   ]
  },
  {
   "cell_type": "code",
   "execution_count": 5,
   "metadata": {},
   "outputs": [],
   "source": [
    "name = ('News Results for '+a.term)+'.csv'\n",
    "df.to_csv(name, index=False)"
   ]
  },
  {
   "cell_type": "code",
   "execution_count": null,
   "metadata": {},
   "outputs": [],
   "source": []
  },
  {
   "cell_type": "code",
   "execution_count": null,
   "metadata": {},
   "outputs": [],
   "source": []
  },
  {
   "cell_type": "code",
   "execution_count": null,
   "metadata": {},
   "outputs": [],
   "source": []
  },
  {
   "cell_type": "code",
   "execution_count": null,
   "metadata": {},
   "outputs": [],
   "source": []
  }
 ],
 "metadata": {
  "kernelspec": {
   "display_name": "Python 3",
   "language": "python",
   "name": "python3"
  },
  "language_info": {
   "codemirror_mode": {
    "name": "ipython",
    "version": 3
   },
   "file_extension": ".py",
   "mimetype": "text/x-python",
   "name": "python",
   "nbconvert_exporter": "python",
   "pygments_lexer": "ipython3",
   "version": "3.7.1"
  }
 },
 "nbformat": 4,
 "nbformat_minor": 2
}
